{
 "cells": [
  {
   "cell_type": "markdown",
   "id": "04500098-59a2-4c54-bc8a-e40764d932fc",
   "metadata": {},
   "source": [
    "### Adding H3 id to datasets"
   ]
  },
  {
   "cell_type": "markdown",
   "id": "5499389c-a6bc-42e2-b4ee-a06925b61774",
   "metadata": {},
   "source": [
    "H3 is a system developed by Uber to divide the entire surface of the Earth into hexagons.\n",
    "\n",
    "Each hexagon covers a small, consistent area of land.\n",
    "\n",
    "Every hexagon has a unique code — that code is called an H3 ID."
   ]
  },
  {
   "cell_type": "markdown",
   "id": "2b2bcbc2-da92-42f3-93b9-15169124c95e",
   "metadata": {},
   "source": [
    "### How to add H3ID to datasets"
   ]
  },
  {
   "cell_type": "markdown",
   "id": "2f7110b2-5ac3-458e-b2a7-79815a534100",
   "metadata": {},
   "source": [
    "In the rapida tool, the process of adding h3id is simple. The following command is used:"
   ]
  },
  {
   "cell_type": "markdown",
   "id": "7aaf8be8-4bd0-4668-8d76-bf33b41082d9",
   "metadata": {},
   "source": [
    "`rapida addh3id --layer <layer_name> --h3id_column <column_name_to_add_h3id> --h3id_precision <h3id_precision> [DATASET_PATH] `"
   ]
  },
  {
   "cell_type": "markdown",
   "id": "c8a7b412-48eb-405f-8650-cd5ff236127d",
   "metadata": {},
   "source": [
    "To read more about h3 id, open this link [here](https://www.uber.com/en-KE/blog/h3/)"
   ]
  },
  {
   "cell_type": "code",
   "execution_count": null,
   "id": "c9f3dbae-7421-4a06-b8ec-89b74765a82d",
   "metadata": {},
   "outputs": [],
   "source": []
  }
 ],
 "metadata": {
  "kernelspec": {
   "display_name": "Python 3 (ipykernel)",
   "language": "python",
   "name": "python3"
  },
  "language_info": {
   "codemirror_mode": {
    "name": "ipython",
    "version": 3
   },
   "file_extension": ".py",
   "mimetype": "text/x-python",
   "name": "python",
   "nbconvert_exporter": "python",
   "pygments_lexer": "ipython3",
   "version": "3.12.3"
  }
 },
 "nbformat": 4,
 "nbformat_minor": 5
}
